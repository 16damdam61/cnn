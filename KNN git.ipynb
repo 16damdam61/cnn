{
 "cells": [
  {
   "cell_type": "markdown",
   "id": "45d2828a",
   "metadata": {},
   "source": [
    "\n",
    "# KNN - K Nearest Neighbours Modeli\n",
    "Bu dersimizde Machine Learning modellerinden KNN Modelini Python'da şeker hastalığı veri setini örneğiyle uygulamalı olarak öğreneceğiz."
   ]
  },
  {
   "cell_type": "code",
   "execution_count": null,
   "id": "89639bf8",
   "metadata": {},
   "outputs": [],
   "source": [
    "import pandas as pd\n",
    "import matplotlib.pyplot as plt\n",
    "import numpy as np\n",
    "from sklearn.model_selection import train_test_split\n",
    "from sklearn.neighbors import KNeighborsClassifier\n",
    "\n",
    "\n",
    "# Outcome = 1 Diabet/Şeker Hastası\n",
    "# Outcome = 0 Sağlıklı\n",
    "data = pd.read_csv(\"diabetes.csv\")\n",
    "data.head()\n",
    "\n"
   ]
  },
  {
   "cell_type": "code",
   "execution_count": null,
   "id": "60538917",
   "metadata": {},
   "outputs": [],
   "source": [
    "\n",
    "\n",
    "seker_hastalari = data[data.Outcome == 1]\n",
    "saglikli_insanlar = data[data.Outcome == 0]\n",
    "\n",
    "\n",
    "# Şimdilik sadece gloucose'a bakarak örnek bir çizim yapalım:\n",
    "# Programımızın sonunda makine öğrenme modelimiz sadece glikoza değil tüm diğer verilere bakarak bir tahmin yapacaktır..\n",
    "plt.scatter(saglikli_insanlar.Age, saglikli_insanlar.Glucose, color=\"green\", label=\"sağlıklı\", alpha = 0.4)\n",
    "plt.scatter(seker_hastalari.Age, seker_hastalari.Glucose, color=\"red\", label=\"diabet hastası\", alpha = 0.4)\n",
    "plt.xlabel(\"Age\")\n",
    "plt.ylabel(\"Glucose\")\n",
    "plt.legend()\n",
    "plt.show()\n"
   ]
  },
  {
   "cell_type": "code",
   "execution_count": null,
   "id": "9689946b",
   "metadata": {},
   "outputs": [],
   "source": [
    "\n",
    "\n",
    "# x ve y eksenlerini belirleyelim\n",
    "y = data.Outcome.values\n",
    "x_ham_veri = data.drop([\"Outcome\"],axis=1)   \n",
    "# Outcome sütununu(dependent variable) çıkarıp sadece independent variables bırakıyoruz\n",
    "# Çüknü KNN algoritması x değerleri içerisinde gruplandırma yapacak..\n",
    "\n",
    "\n",
    "# normalization yapıyoruz - x_ham_veri içerisindeki değerleri sadece 0 ve 1 arasında olacak şekilde hepsini güncelliyoruz\n",
    "# Eğer bu şekilde normalization yapmazsak yüksek rakamlar küçük rakamları ezer ve KNN algoritmasını yanıltabilir!\n",
    "x = (x_ham_veri - np.min(x_ham_veri))/(np.max(x_ham_veri)-np.min(x_ham_veri))\n",
    "\n",
    "# önce\n",
    "print(\"Normalization öncesi ham veriler:\\n\")\n",
    "print(x_ham_veri.head())\n",
    "\n",
    "\n",
    "# sonra \n",
    "print(\"\\n\\n\\nNormalization sonrası yapay zekaya eğitim için vereceğimiz veriler:\\n\")\n",
    "print(x.head())\n",
    "\n"
   ]
  },
  {
   "cell_type": "code",
   "execution_count": null,
   "id": "5e4f8f1e",
   "metadata": {},
   "outputs": [],
   "source": []
  },
  {
   "cell_type": "code",
   "execution_count": 24,
   "id": "35df1481",
   "metadata": {},
   "outputs": [
    {
     "name": "stdout",
     "output_type": "stream",
     "text": [
      "K=3 için Test verilerimizin doğrulama testi sonucu  0.8509406657018813\n"
     ]
    }
   ],
   "source": [
    "\n",
    "# train datamız ile test datamızı ayırıyoruz\n",
    "# train datamız sistemin sağlıklı insan ile hasta insanı ayırt etmesini öğrenmek için kullanılacak\n",
    "# test datamız ise bakalım makine öğrenme modelimiz doğru bir şekilde hasta ve sağlıklı insanları ayırt edebiliyor mu diye \n",
    "# test etmek için kullanılacak...\n",
    "x_train, x_test, y_train, y_test = train_test_split(x,y,test_size = 0.1,random_state=1)\n",
    "\n",
    "# knn modelimizi oluşturuyoruz.\n",
    "knn = KNeighborsClassifier(n_neighbors = 3) # n_neighbors = k\n",
    "knn.fit(x_train,y_train)\n",
    "prediction = knn.predict(x_test)\n",
    "print(\"K=3 için Test verilerimizin doğrulama testi sonucu \", knn.score(x_train, y_train))\n"
   ]
  },
  {
   "cell_type": "code",
   "execution_count": 23,
   "id": "6db92470",
   "metadata": {},
   "outputs": [
    {
     "name": "stdout",
     "output_type": "stream",
     "text": [
      "1    Doğruluk oranı: % 100.0\n",
      "2    Doğruluk oranı: % 82.77858176555716\n",
      "3    Doğruluk oranı: % 85.09406657018813\n",
      "4    Doğruluk oranı: % 82.19971056439942\n",
      "5    Doğruluk oranı: % 82.4891461649783\n",
      "6    Doğruluk oranı: % 80.02894356005788\n",
      "7    Doğruluk oranı: % 79.59479015918957\n",
      "8    Doğruluk oranı: % 79.45007235890014\n",
      "9    Doğruluk oranı: % 79.45007235890014\n",
      "10    Doğruluk oranı: % 78.8712011577424\n"
     ]
    }
   ],
   "source": [
    "\n",
    "\n",
    "\n",
    "\n",
    "# k kaç olmalı ?\n",
    "# en iyi k değerini belirleyelim..\n",
    "sayac = 1\n",
    "for k in range(1,11):\n",
    "    knn_yeni = KNeighborsClassifier(n_neighbors = k)\n",
    "    knn_yeni.fit(x_train,y_train)\n",
    "    print(sayac, \"  \", \"Doğruluk oranı: %\", knn_yeni.score(x_test,y_test)*100)\n",
    "    sayac += 1\n"
   ]
  },
  {
   "cell_type": "code",
   "execution_count": null,
   "id": "b860c615",
   "metadata": {},
   "outputs": [],
   "source": []
  },
  {
   "cell_type": "code",
   "execution_count": 68,
   "id": "ed7e0d36",
   "metadata": {},
   "outputs": [
    {
     "data": {
      "text/plain": [
       "{'clip': False, 'copy': True, 'feature_range': (0, 1)}"
      ]
     },
     "execution_count": 68,
     "metadata": {},
     "output_type": "execute_result"
    }
   ],
   "source": [
    "# Yeni bir hasta tahmini için:\n",
    "from sklearn.preprocessing import MinMaxScaler\n",
    "\n",
    "# normalization yapıyoruz - daha hızlı normalization yapabilmek için MinMax  scaler kullandık...\n",
    "sc = MinMaxScaler()\n",
    "sc.fit_transform(x_ham_veri)\n",
    "sc.get_params()\n",
    "\n",
    "\n"
   ]
  },
  {
   "cell_type": "code",
   "execution_count": null,
   "id": "548aaa06",
   "metadata": {},
   "outputs": [],
   "source": [
    "new_prediction = knn.predict(sc.transform(np.array([[6,148,72,35,0,33.6,0.627,50]])))\n",
    "new_prediction[0]"
   ]
  }
 ],
 "metadata": {
  "kernelspec": {
   "display_name": "Python 3",
   "language": "python",
   "name": "python3"
  },
  "language_info": {
   "codemirror_mode": {
    "name": "ipython",
    "version": 3
   },
   "file_extension": ".py",
   "mimetype": "text/x-python",
   "name": "python",
   "nbconvert_exporter": "python",
   "pygments_lexer": "ipython3",
   "version": "3.8.10"
  }
 },
 "nbformat": 4,
 "nbformat_minor": 5
}
